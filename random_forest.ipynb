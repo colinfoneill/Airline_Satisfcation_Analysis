{
 "cells": [
  {
   "cell_type": "code",
   "execution_count": 29,
   "metadata": {},
   "outputs": [],
   "source": [
    "#imports\n",
    "from sklearn import tree\n",
    "import pandas as pd\n",
    "import os\n",
    "import numpy as np\n",
    "import pickle\n",
    "from matplotlib import pyplot as plt"
   ]
  },
  {
   "cell_type": "code",
   "execution_count": 30,
   "metadata": {},
   "outputs": [],
   "source": [
    "#import our train and test csv\n",
    "train_path = os.path.join(\"Data/train.csv\")\n",
    "train_df = pd.read_csv(train_path)\n",
    "\n",
    "test_path = os.path.join(\"Data/test.csv\")\n",
    "test_df = pd.read_csv(test_path)"
   ]
  },
  {
   "cell_type": "code",
   "execution_count": 31,
   "metadata": {},
   "outputs": [],
   "source": [
    "#drop na in test_df\n",
    "test_df = test_df.dropna()"
   ]
  },
  {
   "cell_type": "code",
   "execution_count": 32,
   "metadata": {},
   "outputs": [],
   "source": [
    "#drop na in train_df\n",
    "train_df = train_df.dropna()"
   ]
  },
  {
   "cell_type": "code",
   "execution_count": 33,
   "metadata": {},
   "outputs": [],
   "source": [
    "#convert the satisfaction column to 1's and 0's in the train_df\n",
    "train_df[\"satisfaction\"].replace({\"satisfied\":1, \"neutral or dissatisfied\":0}, inplace=True)"
   ]
  },
  {
   "cell_type": "code",
   "execution_count": 34,
   "metadata": {},
   "outputs": [],
   "source": [
    "#convert gender column to 1's and 0's in train_df\n",
    "train_df[\"Gender\"].replace({\"Male\":1, \"Female\":0}, inplace=True)"
   ]
  },
  {
   "cell_type": "code",
   "execution_count": 35,
   "metadata": {},
   "outputs": [],
   "source": [
    "#convert customer type column to 1's and 0's in train_df\n",
    "train_df[\"Customer Type\"].replace({\"Loyal Customer\":1, \"disloyal Customer\":0}, inplace=True)"
   ]
  },
  {
   "cell_type": "code",
   "execution_count": 36,
   "metadata": {},
   "outputs": [],
   "source": [
    "#convert travel type column to 1's and 0's in train_df\n",
    "train_df[\"Type of Travel\"].replace({\"Business travel\":1, \"Personal Travel\":0}, inplace=True)"
   ]
  },
  {
   "cell_type": "code",
   "execution_count": 37,
   "metadata": {},
   "outputs": [],
   "source": [
    "#convert class type column to 2's 1's and 0's in train_df\n",
    "train_df[\"Class\"].replace({\"Business\":2, \"Eco\":1, \"Eco Plus\":0}, inplace=True)"
   ]
  },
  {
   "cell_type": "code",
   "execution_count": 38,
   "metadata": {},
   "outputs": [],
   "source": [
    "#assign the X_train data\n",
    "train_df = train_df.drop(columns=[\"Unnamed: 0\", 'id'])\n",
    "\n",
    "#assign the y_train data\n",
    "y_train = np.array(train_df[\"satisfaction\"]).reshape(-1,1)"
   ]
  },
  {
   "cell_type": "code",
   "execution_count": 39,
   "metadata": {},
   "outputs": [],
   "source": [
    "#assign x_train values\n",
    "X_train = train_df"
   ]
  },
  {
   "cell_type": "code",
   "execution_count": 40,
   "metadata": {},
   "outputs": [],
   "source": [
    "#drop target variable from x train\n",
    "X_train = X_train.drop(columns=[\"satisfaction\"])"
   ]
  },
  {
   "cell_type": "code",
   "execution_count": 41,
   "metadata": {},
   "outputs": [],
   "source": [
    "#convert the satisfaction column to 1's and 0's in test_df\n",
    "test_df[\"satisfaction\"].replace({\"satisfied\":1, \"neutral or dissatisfied\":0}, inplace=True)"
   ]
  },
  {
   "cell_type": "code",
   "execution_count": 42,
   "metadata": {},
   "outputs": [],
   "source": [
    "#convert gender column to 1's and 0's in test_df\n",
    "test_df[\"Gender\"].replace({\"Male\":1, \"Female\":0}, inplace=True)"
   ]
  },
  {
   "cell_type": "code",
   "execution_count": 43,
   "metadata": {},
   "outputs": [],
   "source": [
    "#convert customer type column to 1's and 0's in test_df\n",
    "test_df[\"Customer Type\"].replace({\"Loyal Customer\":1, \"disloyal Customer\":0}, inplace=True)"
   ]
  },
  {
   "cell_type": "code",
   "execution_count": 44,
   "metadata": {},
   "outputs": [],
   "source": [
    "#convert travel type column to 1's and 0's in test_df\n",
    "test_df[\"Type of Travel\"].replace({\"Business travel\":1, \"Personal Travel\":0}, inplace=True)"
   ]
  },
  {
   "cell_type": "code",
   "execution_count": 45,
   "metadata": {},
   "outputs": [],
   "source": [
    "#convert class type column to 2's 1's and 0's in test_df\n",
    "test_df[\"Class\"].replace({\"Business\":2, \"Eco\":1, \"Eco Plus\":0}, inplace=True)"
   ]
  },
  {
   "cell_type": "code",
   "execution_count": 46,
   "metadata": {},
   "outputs": [],
   "source": [
    "#drop unneeded columns and reshape y_test variable\n",
    "test_df = test_df.drop(columns=[\"Unnamed: 0\", 'id'])\n",
    "\n",
    "y_test = np.array(test_df[\"satisfaction\"]).reshape(-1,1)"
   ]
  },
  {
   "cell_type": "code",
   "execution_count": 47,
   "metadata": {},
   "outputs": [],
   "source": [
    "#assign x_test variables\n",
    "X_test = test_df"
   ]
  },
  {
   "cell_type": "code",
   "execution_count": 48,
   "metadata": {},
   "outputs": [],
   "source": [
    "#drop the target variable from the X_test variables\n",
    "X_test = X_test.drop(columns=[\"satisfaction\"])"
   ]
  },
  {
   "cell_type": "code",
   "execution_count": 49,
   "metadata": {},
   "outputs": [],
   "source": [
    "#establish the feature names for random forest importance metrics\n",
    "feature_names = X_test.columns"
   ]
  },
  {
   "cell_type": "code",
   "execution_count": 51,
   "metadata": {},
   "outputs": [
    {
     "name": "stderr",
     "output_type": "stream",
     "text": [
      "<ipython-input-51-3977663f50aa>:4: DataConversionWarning: A column-vector y was passed when a 1d array was expected. Please change the shape of y to (n_samples,), for example using ravel().\n",
      "  rf = rf.fit(X_train, y_train)\n",
      "C:\\Users\\colin\\Anaconda3\\lib\\site-packages\\sklearn\\ensemble\\_forest.py:540: UserWarning: Some inputs do not have OOB scores. This probably means too few trees were used to compute any reliable oob estimates.\n",
      "  warn(\"Some inputs do not have OOB scores. \"\n",
      "C:\\Users\\colin\\Anaconda3\\lib\\site-packages\\sklearn\\ensemble\\_forest.py:544: RuntimeWarning: invalid value encountered in true_divide\n",
      "  decision = (predictions[k] /\n"
     ]
    }
   ],
   "source": [
    "#create model using random forest\n",
    "from sklearn.ensemble import RandomForestClassifier\n",
    "rf = RandomForestClassifier(n_estimators=10, oob_score=True)\n",
    "rf = rf.fit(X_train, y_train)\n"
   ]
  },
  {
   "cell_type": "code",
   "execution_count": 53,
   "metadata": {},
   "outputs": [
    {
     "data": {
      "text/plain": [
       "0.9439446299978763"
      ]
     },
     "execution_count": 53,
     "metadata": {},
     "output_type": "execute_result"
    }
   ],
   "source": [
    "#score the model using oob score\n",
    "oob_score = rf.oob_score_\n",
    "oob_score"
   ]
  },
  {
   "cell_type": "code",
   "execution_count": 55,
   "metadata": {},
   "outputs": [
    {
     "data": {
      "text/plain": [
       "0.9582898852971846"
      ]
     },
     "execution_count": 55,
     "metadata": {},
     "output_type": "execute_result"
    }
   ],
   "source": [
    "#score the model at 200 estimators\n",
    "model_score = rf.score(X_test, y_test)\n",
    "model_score"
   ]
  },
  {
   "cell_type": "code",
   "execution_count": 56,
   "metadata": {},
   "outputs": [],
   "source": [
    "#assign n_estimators to a variable for table\n",
    "estimators = rf.n_estimators"
   ]
  },
  {
   "cell_type": "code",
   "execution_count": 57,
   "metadata": {},
   "outputs": [
    {
     "data": {
      "text/plain": [
       "[(0.15500065822569425, 'Inflight wifi service'),\n",
       " (0.12697318729064744, 'Type of Travel'),\n",
       " (0.11375479516470506, 'Online boarding'),\n",
       " (0.07914932482176948, 'Seat comfort'),\n",
       " (0.07795088696331455, 'Class'),\n",
       " (0.05626595890250461, 'Leg room service'),\n",
       " (0.05052143859244259, 'Customer Type'),\n",
       " (0.04016531312889374, 'Age'),\n",
       " (0.03953539882455158, 'Inflight entertainment'),\n",
       " (0.03750065896742022, 'Flight Distance'),\n",
       " (0.03543903705566269, 'On-board service'),\n",
       " (0.033600096233126986, 'Ease of Online booking'),\n",
       " (0.02270526163495613, 'Checkin service'),\n",
       " (0.022067318349381044, 'Baggage handling'),\n",
       " (0.01912613661103573, 'Inflight service'),\n",
       " (0.0178872493841604, 'Cleanliness'),\n",
       " (0.015730876544062217, 'Gate location'),\n",
       " (0.014797722461560572, 'Departure/Arrival time convenient'),\n",
       " (0.012543414411399703, 'Food and drink'),\n",
       " (0.012365688445204909, 'Arrival Delay in Minutes'),\n",
       " (0.01111157424742647, 'Departure Delay in Minutes'),\n",
       " (0.005808003740079629, 'Gender')]"
      ]
     },
     "execution_count": 57,
     "metadata": {},
     "output_type": "execute_result"
    }
   ],
   "source": [
    "#print out the feature importances\n",
    "sorted(zip(rf.feature_importances_, feature_names), reverse=True)"
   ]
  },
  {
   "cell_type": "code",
   "execution_count": 58,
   "metadata": {},
   "outputs": [],
   "source": [
    "#save model using pickle\n",
    "filename = 'gcloud_app/random_forest.pkl'\n",
    "pickle.dump(rf, open(filename, 'wb'))"
   ]
  },
  {
   "cell_type": "code",
   "execution_count": null,
   "metadata": {
    "scrolled": true
   },
   "outputs": [],
   "source": [
    "import matplotlib.pyplot as plt\n",
    "\n",
    "# from collections import OrderedDict\n",
    "# from sklearn.datasets import make_classification\n",
    "# from sklearn.ensemble import RandomForestClassifier\n",
    "\n",
    "# Author: Kian Ho <hui.kian.ho@gmail.com>\n",
    "#         Gilles Louppe <g.louppe@gmail.com>\n",
    "#         Andreas Mueller <amueller@ais.uni-bonn.de>\n",
    "#\n",
    "# License: BSD 3 Clause\n",
    "\n",
    "# print(__doc__)\n",
    "\n",
    "# RANDOM_STATE = 123\n",
    "\n",
    "# # Generate a binary classification dataset.\n",
    "# X, y = make_classification(n_samples=500, n_features=25,\n",
    "#                            n_clusters_per_class=1, n_informative=15,\n",
    "#                            random_state=RANDOM_STATE)\n",
    "\n",
    "# NOTE: Setting the `warm_start` construction parameter to `True` disables\n",
    "# support for parallelized ensembles but is necessary for tracking the OOB\n",
    "# error trajectory during training.\n",
    "# ensemble_clfs = [\n",
    "#     (\"RandomForestClassifier, max_features='sqrt'\",\n",
    "#         RandomForestClassifier(warm_start=True, oob_score=True,\n",
    "#                                max_features=\"sqrt\",\n",
    "#                                random_state=RANDOM_STATE)),\n",
    "#     (\"RandomForestClassifier, max_features='log2'\",\n",
    "#         RandomForestClassifier(warm_start=True, max_features='log2',\n",
    "#                                oob_score=True,\n",
    "#                                random_state=RANDOM_STATE)),\n",
    "#     (\"RandomForestClassifier, max_features=None\",\n",
    "#         RandomForestClassifier(warm_start=True, max_features=None,\n",
    "#                                oob_score=True,\n",
    "#                                random_state=RANDOM_STATE))\n",
    "# ]\n",
    "\n",
    "# # Map a classifier name to a list of (<n_estimators>, <error rate>) pairs.\n",
    "# error_rate = OrderedDict((label, []) for label, _ in ensemble_clfs)\n",
    "\n",
    "# Range of `n_estimators` values to explore.\n",
    "min_estimators = 10\n",
    "max_estimators = 500\n",
    "\n",
    "x_values = np.arange(min_estimators, max_estimators + 1, 50).tolist()\n",
    "y_values = []\n",
    "\n",
    "for i in range(min_estimators, max_estimators + 1, 50):\n",
    "    model = RandomForestClassifier(n_estimators=i, oob_score=True).fit(X_train, y_train)\n",
    "    y_values.append(model.oob_score_)"
   ]
  },
  {
   "cell_type": "code",
   "execution_count": null,
   "metadata": {},
   "outputs": [],
   "source": [
    "plt.plot(x_values, y_values)\n",
    "plt.xlabel(\"n_estimators\", fontweight='heavy')\n",
    "plt.ylabel(\"oob_score\", fontweight='heavy')\n",
    "plt.title(\"oob_score vs. n_estimators\", fontweight='bold')\n",
    "plt.savefig(\"images/oob_score_vs_estimators\", bbox_inches=\"tight\")"
   ]
  },
  {
   "cell_type": "code",
   "execution_count": null,
   "metadata": {},
   "outputs": [],
   "source": [
    "#assign importances to variable\n",
    "importances = rf.feature_importances_ "
   ]
  },
  {
   "cell_type": "code",
   "execution_count": null,
   "metadata": {},
   "outputs": [],
   "source": [
    "#get standard deviation of importances\n",
    "std = np.std([tree.feature_importances_ for tree in rf.estimators_], axis=0)"
   ]
  },
  {
   "cell_type": "code",
   "execution_count": null,
   "metadata": {},
   "outputs": [],
   "source": [
    "#convert importances to pandas series\n",
    "forest_importances = pd.Series(importances, index=feature_names)"
   ]
  },
  {
   "cell_type": "code",
   "execution_count": null,
   "metadata": {},
   "outputs": [],
   "source": [
    "#plot feature importances and standard deviation as yerr bar\n",
    "fig, ax = plt.subplots()\n",
    "forest_importances.plot.bar(yerr=std, ax=ax)\n",
    "ax.set_title(\"Feature Importances Using MDI\", weight='bold')\n",
    "ax.set_ylabel(\"Mean Decrease in Impurity\", weight='bold')\n",
    "plt.savefig(\"images/feature_importance\", bbox_inches=\"tight\")"
   ]
  },
  {
   "cell_type": "code",
   "execution_count": null,
   "metadata": {},
   "outputs": [],
   "source": [
    "table = pd.DataFrame([{\"Model Type\": \"Random Forest\", \"# Estimators\": estimators, \"Model Score\": model_score, \"OOB Score\": oob_score}])\n",
    "table"
   ]
  },
  {
   "cell_type": "code",
   "execution_count": null,
   "metadata": {},
   "outputs": [],
   "source": [
    "table = pd.DataFrame.transpose(table)"
   ]
  },
  {
   "cell_type": "code",
   "execution_count": null,
   "metadata": {},
   "outputs": [],
   "source": [
    "table"
   ]
  },
  {
   "cell_type": "code",
   "execution_count": null,
   "metadata": {},
   "outputs": [],
   "source": [
    "html_table = table.to_html(index=True, header=False)"
   ]
  },
  {
   "cell_type": "code",
   "execution_count": null,
   "metadata": {},
   "outputs": [],
   "source": [
    "html_table"
   ]
  },
  {
   "cell_type": "code",
   "execution_count": null,
   "metadata": {},
   "outputs": [],
   "source": []
  }
 ],
 "metadata": {
  "kernelspec": {
   "display_name": "Python 3",
   "language": "python",
   "name": "python3"
  },
  "language_info": {
   "codemirror_mode": {
    "name": "ipython",
    "version": 3
   },
   "file_extension": ".py",
   "mimetype": "text/x-python",
   "name": "python",
   "nbconvert_exporter": "python",
   "pygments_lexer": "ipython3",
   "version": "3.8.3"
  }
 },
 "nbformat": 4,
 "nbformat_minor": 4
}
