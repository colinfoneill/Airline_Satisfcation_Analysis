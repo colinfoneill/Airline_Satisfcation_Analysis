{
 "cells": [
  {
   "cell_type": "code",
   "execution_count": 36,
   "metadata": {},
   "outputs": [],
   "source": [
    "#imports\n",
    "from sklearn import tree\n",
    "import pandas as pd\n",
    "import os\n",
    "import numpy as np\n",
    "import pickle\n",
    "from matplotlib import pyplot as plt"
   ]
  },
  {
   "cell_type": "code",
   "execution_count": 2,
   "metadata": {},
   "outputs": [],
   "source": [
    "#import our train and test csv\n",
    "train_path = os.path.join(\"Data/train.csv\")\n",
    "train_df = pd.read_csv(train_path)\n",
    "\n",
    "test_path = os.path.join(\"Data/test.csv\")\n",
    "test_df = pd.read_csv(test_path)"
   ]
  },
  {
   "cell_type": "code",
   "execution_count": 3,
   "metadata": {},
   "outputs": [],
   "source": [
    "#drop na in test_df\n",
    "test_df = test_df.dropna()"
   ]
  },
  {
   "cell_type": "code",
   "execution_count": 4,
   "metadata": {},
   "outputs": [],
   "source": [
    "#drop na in train_df\n",
    "train_df = train_df.dropna()"
   ]
  },
  {
   "cell_type": "code",
   "execution_count": 5,
   "metadata": {},
   "outputs": [],
   "source": [
    "#convert the satisfaction column to 1's and 0's in the train_df\n",
    "train_df[\"satisfaction\"].replace({\"satisfied\":1, \"neutral or dissatisfied\":0}, inplace=True)"
   ]
  },
  {
   "cell_type": "code",
   "execution_count": 6,
   "metadata": {},
   "outputs": [],
   "source": [
    "#convert gender column to 1's and 0's in train_df\n",
    "train_df[\"Gender\"].replace({\"Male\":1, \"Female\":0}, inplace=True)"
   ]
  },
  {
   "cell_type": "code",
   "execution_count": 7,
   "metadata": {},
   "outputs": [],
   "source": [
    "#convert customer type column to 1's and 0's in train_df\n",
    "train_df[\"Customer Type\"].replace({\"Loyal Customer\":1, \"disloyal Customer\":0}, inplace=True)"
   ]
  },
  {
   "cell_type": "code",
   "execution_count": 8,
   "metadata": {},
   "outputs": [],
   "source": [
    "#convert travel type column to 1's and 0's in train_df\n",
    "train_df[\"Type of Travel\"].replace({\"Business travel\":1, \"Personal Travel\":0}, inplace=True)"
   ]
  },
  {
   "cell_type": "code",
   "execution_count": 9,
   "metadata": {},
   "outputs": [],
   "source": [
    "#convert class type column to 2's 1's and 0's in train_df\n",
    "train_df[\"Class\"].replace({\"Business\":2, \"Eco\":1, \"Eco Plus\":0}, inplace=True)"
   ]
  },
  {
   "cell_type": "code",
   "execution_count": 10,
   "metadata": {},
   "outputs": [],
   "source": [
    "#assign the X_train data\n",
    "train_df = train_df.drop(columns=[\"Unnamed: 0\", 'id'])\n",
    "\n",
    "#assign the y_train data\n",
    "y_train = np.array(train_df[\"satisfaction\"]).reshape(-1,1)"
   ]
  },
  {
   "cell_type": "code",
   "execution_count": 11,
   "metadata": {},
   "outputs": [],
   "source": [
    "#assign x_train values\n",
    "X_train = train_df"
   ]
  },
  {
   "cell_type": "code",
   "execution_count": 12,
   "metadata": {},
   "outputs": [],
   "source": [
    "#drop target variable from x train\n",
    "X_train = X_train.drop(columns=[\"satisfaction\"])"
   ]
  },
  {
   "cell_type": "code",
   "execution_count": 13,
   "metadata": {},
   "outputs": [],
   "source": [
    "#convert the satisfaction column to 1's and 0's in test_df\n",
    "test_df[\"satisfaction\"].replace({\"satisfied\":1, \"neutral or dissatisfied\":0}, inplace=True)"
   ]
  },
  {
   "cell_type": "code",
   "execution_count": 14,
   "metadata": {},
   "outputs": [],
   "source": [
    "#convert gender column to 1's and 0's in test_df\n",
    "test_df[\"Gender\"].replace({\"Male\":1, \"Female\":0}, inplace=True)"
   ]
  },
  {
   "cell_type": "code",
   "execution_count": 15,
   "metadata": {},
   "outputs": [],
   "source": [
    "#convert customer type column to 1's and 0's in test_df\n",
    "test_df[\"Customer Type\"].replace({\"Loyal Customer\":1, \"disloyal Customer\":0}, inplace=True)"
   ]
  },
  {
   "cell_type": "code",
   "execution_count": 16,
   "metadata": {},
   "outputs": [],
   "source": [
    "#convert travel type column to 1's and 0's in test_df\n",
    "test_df[\"Type of Travel\"].replace({\"Business travel\":1, \"Personal Travel\":0}, inplace=True)"
   ]
  },
  {
   "cell_type": "code",
   "execution_count": 17,
   "metadata": {},
   "outputs": [],
   "source": [
    "#convert class type column to 2's 1's and 0's in test_df\n",
    "test_df[\"Class\"].replace({\"Business\":2, \"Eco\":1, \"Eco Plus\":0}, inplace=True)"
   ]
  },
  {
   "cell_type": "code",
   "execution_count": 18,
   "metadata": {},
   "outputs": [],
   "source": [
    "#drop unneeded columns and reshape y_test variable\n",
    "test_df = test_df.drop(columns=[\"Unnamed: 0\", 'id'])\n",
    "\n",
    "y_test = np.array(test_df[\"satisfaction\"]).reshape(-1,1)"
   ]
  },
  {
   "cell_type": "code",
   "execution_count": 19,
   "metadata": {},
   "outputs": [],
   "source": [
    "#assign x_test variables\n",
    "X_test = test_df"
   ]
  },
  {
   "cell_type": "code",
   "execution_count": 20,
   "metadata": {},
   "outputs": [],
   "source": [
    "#drop the target variable from the X_test variables\n",
    "X_test = X_test.drop(columns=[\"satisfaction\"])"
   ]
  },
  {
   "cell_type": "code",
   "execution_count": 21,
   "metadata": {},
   "outputs": [],
   "source": [
    "#establish the feature names for random forest importance metrics\n",
    "feature_names = X_test.columns"
   ]
  },
  {
   "cell_type": "code",
   "execution_count": 23,
   "metadata": {},
   "outputs": [
    {
     "name": "stderr",
     "output_type": "stream",
     "text": [
      "<ipython-input-23-1b0348547d61>:4: DataConversionWarning: A column-vector y was passed when a 1d array was expected. Please change the shape of y to (n_samples,), for example using ravel().\n",
      "  rf = rf.fit(X_train, y_train)\n"
     ]
    }
   ],
   "source": [
    "#create model using random forest\n",
    "from sklearn.ensemble import RandomForestClassifier\n",
    "rf = RandomForestClassifier(n_estimators=200, oob_score=True)\n",
    "rf = rf.fit(X_train, y_train)\n"
   ]
  },
  {
   "cell_type": "code",
   "execution_count": 24,
   "metadata": {},
   "outputs": [],
   "source": [
    "# print(rf.oob_score_) for 10 estimators: .942\n",
    "# print(rf.oob_score_) for 50 estimators: .960\n",
    "# print(rf.oob_score_) for 100 estimators:.9611\n",
    "# print(rf.oob_score_) for 200 estimators: .963\n",
    "# print(rf.oob_score_) for 500 estimators: .963"
   ]
  },
  {
   "cell_type": "code",
   "execution_count": 25,
   "metadata": {},
   "outputs": [
    {
     "data": {
      "text/plain": [
       "0.9635422701116132"
      ]
     },
     "execution_count": 25,
     "metadata": {},
     "output_type": "execute_result"
    }
   ],
   "source": [
    "#score the model at 200 estimators\n",
    "rf.score(X_test, y_test)"
   ]
  },
  {
   "cell_type": "code",
   "execution_count": 26,
   "metadata": {},
   "outputs": [
    {
     "data": {
      "text/plain": [
       "[(0.16439556909101696, 'Online boarding'),\n",
       " (0.14481020487834362, 'Inflight wifi service'),\n",
       " (0.09827846041951174, 'Class'),\n",
       " (0.09691995398169324, 'Type of Travel'),\n",
       " (0.0590916420304839, 'Inflight entertainment'),\n",
       " (0.049057220505693964, 'Seat comfort'),\n",
       " (0.03975352610229026, 'Customer Type'),\n",
       " (0.03856129482092633, 'Leg room service'),\n",
       " (0.03821667508695001, 'Ease of Online booking'),\n",
       " (0.03785776527915776, 'Flight Distance'),\n",
       " (0.03292436547465314, 'Age'),\n",
       " (0.029973140327807728, 'On-board service'),\n",
       " (0.024883577037530698, 'Baggage handling'),\n",
       " (0.024033565813143646, 'Checkin service'),\n",
       " (0.023706121621514996, 'Cleanliness'),\n",
       " (0.02339434757729102, 'Inflight service'),\n",
       " (0.017973904305042275, 'Departure/Arrival time convenient'),\n",
       " (0.01676129983558317, 'Gate location'),\n",
       " (0.012197523075951995, 'Arrival Delay in Minutes'),\n",
       " (0.0117047986063132, 'Food and drink'),\n",
       " (0.01095720465153904, 'Departure Delay in Minutes'),\n",
       " (0.004547839477561286, 'Gender')]"
      ]
     },
     "execution_count": 26,
     "metadata": {},
     "output_type": "execute_result"
    }
   ],
   "source": [
    "#print out the feature importances\n",
    "sorted(zip(rf.feature_importances_, feature_names), reverse=True)"
   ]
  },
  {
   "cell_type": "code",
   "execution_count": 27,
   "metadata": {},
   "outputs": [],
   "source": [
    "#save model using pickle\n",
    "filename = 'gcloud_app/random_forest.pkl'\n",
    "pickle.dump(rf, open(filename, 'wb'))"
   ]
  },
  {
   "cell_type": "code",
   "execution_count": null,
   "metadata": {},
   "outputs": [],
   "source": [
    "import matplotlib.pyplot as plt\n",
    "\n",
    "# from collections import OrderedDict\n",
    "# from sklearn.datasets import make_classification\n",
    "# from sklearn.ensemble import RandomForestClassifier\n",
    "\n",
    "# Author: Kian Ho <hui.kian.ho@gmail.com>\n",
    "#         Gilles Louppe <g.louppe@gmail.com>\n",
    "#         Andreas Mueller <amueller@ais.uni-bonn.de>\n",
    "#\n",
    "# License: BSD 3 Clause\n",
    "\n",
    "# print(__doc__)\n",
    "\n",
    "# RANDOM_STATE = 123\n",
    "\n",
    "# # Generate a binary classification dataset.\n",
    "# X, y = make_classification(n_samples=500, n_features=25,\n",
    "#                            n_clusters_per_class=1, n_informative=15,\n",
    "#                            random_state=RANDOM_STATE)\n",
    "\n",
    "# NOTE: Setting the `warm_start` construction parameter to `True` disables\n",
    "# support for parallelized ensembles but is necessary for tracking the OOB\n",
    "# error trajectory during training.\n",
    "# ensemble_clfs = [\n",
    "#     (\"RandomForestClassifier, max_features='sqrt'\",\n",
    "#         RandomForestClassifier(warm_start=True, oob_score=True,\n",
    "#                                max_features=\"sqrt\",\n",
    "#                                random_state=RANDOM_STATE)),\n",
    "#     (\"RandomForestClassifier, max_features='log2'\",\n",
    "#         RandomForestClassifier(warm_start=True, max_features='log2',\n",
    "#                                oob_score=True,\n",
    "#                                random_state=RANDOM_STATE)),\n",
    "#     (\"RandomForestClassifier, max_features=None\",\n",
    "#         RandomForestClassifier(warm_start=True, max_features=None,\n",
    "#                                oob_score=True,\n",
    "#                                random_state=RANDOM_STATE))\n",
    "# ]\n",
    "\n",
    "# # Map a classifier name to a list of (<n_estimators>, <error rate>) pairs.\n",
    "# error_rate = OrderedDict((label, []) for label, _ in ensemble_clfs)\n",
    "\n",
    "# Range of `n_estimators` values to explore.\n",
    "min_estimators = 10\n",
    "max_estimators = 200\n",
    "\n",
    "x_values = np.arange(min_estimators, max_estimators + 1, 1).tolist()\n",
    "y_values = []\n",
    "\n",
    "for i in range(min_estimators, max_estimators + 1):\n",
    "    model = RandomForestClassifier(n_estimators=i, oob_score=True).fit(X_train, y_train)\n",
    "    y_values.append(1-model.oob_score_)\n",
    "    \n",
    "    \n",
    "\n"
   ]
  },
  {
   "cell_type": "code",
   "execution_count": 28,
   "metadata": {},
   "outputs": [],
   "source": [
    "#assign importances to variable\n",
    "importances = rf.feature_importances_ "
   ]
  },
  {
   "cell_type": "code",
   "execution_count": 29,
   "metadata": {},
   "outputs": [],
   "source": [
    "#get standard deviation of importances\n",
    "std = np.std([tree.feature_importances_ for tree in rf.estimators_], axis=0)"
   ]
  },
  {
   "cell_type": "code",
   "execution_count": 32,
   "metadata": {},
   "outputs": [],
   "source": [
    "#convert importances to pandas series\n",
    "forest_importances = pd.Series(importances, index=feature_names)"
   ]
  },
  {
   "cell_type": "code",
   "execution_count": 37,
   "metadata": {},
   "outputs": [
    {
     "data": {
      "text/plain": [
       "Text(0, 0.5, 'Mean Decrease in Impurity')"
      ]
     },
     "execution_count": 37,
     "metadata": {},
     "output_type": "execute_result"
    },
    {
     "data": {
      "image/png": "[encoded data removed]",
      "text/plain": [
       "<Figure size 432x288 with 1 Axes>"
      ]
     },
     "metadata": {
      "needs_background": "light"
     },
     "output_type": "display_data"
    }
   ],
   "source": [
    "#plot feature importances and standard deviation as yerr bar\n",
    "fig, ax = plt.subplots()\n",
    "forest_importances.plot.bar(yerr=std, ax=ax)\n",
    "ax.set_title(\"Feature Importances Using MDI\")\n",
    "ax.set_ylabel(\"Mean Decrease in Impurity\")"
   ]
  },
  {
   "cell_type": "code",
   "execution_count": null,
   "metadata": {},
   "outputs": [],
   "source": []
  }
 ],
 "metadata": {
  "kernelspec": {
   "display_name": "Python 3",
   "language": "python",
   "name": "python3"
  },
  "language_info": {
   "codemirror_mode": {
    "name": "ipython",
    "version": 3
   },
   "file_extension": ".py",
   "mimetype": "text/x-python",
   "name": "python",
   "nbconvert_exporter": "python",
   "pygments_lexer": "ipython3",
   "version": "3.8.3"
  }
 },
 "nbformat": 4,
 "nbformat_minor": 4
}
