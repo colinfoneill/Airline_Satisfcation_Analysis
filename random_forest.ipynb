{
 "cells": [
  {
   "cell_type": "code",
   "execution_count": 1,
   "metadata": {},
   "outputs": [],
   "source": [
    "#imports\n",
    "from sklearn import tree\n",
    "import pandas as pd\n",
    "import os\n",
    "import numpy as np\n",
    "import pickle\n",
    "from matplotlib import pyplot as plt"
   ]
  },
  {
   "cell_type": "code",
   "execution_count": 2,
   "metadata": {},
   "outputs": [],
   "source": [
    "#import our train and test csv\n",
    "train_path = os.path.join(\"Data/train.csv\")\n",
    "train_df = pd.read_csv(train_path)\n",
    "\n",
    "test_path = os.path.join(\"Data/test.csv\")\n",
    "test_df = pd.read_csv(test_path)"
   ]
  },
  {
   "cell_type": "code",
   "execution_count": 3,
   "metadata": {},
   "outputs": [],
   "source": [
    "#drop na in test_df\n",
    "test_df = test_df.dropna()"
   ]
  },
  {
   "cell_type": "code",
   "execution_count": 4,
   "metadata": {},
   "outputs": [],
   "source": [
    "#drop na in train_df\n",
    "train_df = train_df.dropna()"
   ]
  },
  {
   "cell_type": "code",
   "execution_count": 5,
   "metadata": {},
   "outputs": [],
   "source": [
    "#convert the satisfaction column to 1's and 0's in the train_df\n",
    "train_df[\"satisfaction\"].replace({\"satisfied\":1, \"neutral or dissatisfied\":0}, inplace=True)"
   ]
  },
  {
   "cell_type": "code",
   "execution_count": 6,
   "metadata": {},
   "outputs": [],
   "source": [
    "#convert gender column to 1's and 0's in train_df\n",
    "train_df[\"Gender\"].replace({\"Male\":1, \"Female\":0}, inplace=True)"
   ]
  },
  {
   "cell_type": "code",
   "execution_count": 7,
   "metadata": {},
   "outputs": [],
   "source": [
    "#convert customer type column to 1's and 0's in train_df\n",
    "train_df[\"Customer Type\"].replace({\"Loyal Customer\":1, \"disloyal Customer\":0}, inplace=True)"
   ]
  },
  {
   "cell_type": "code",
   "execution_count": 8,
   "metadata": {},
   "outputs": [],
   "source": [
    "#convert travel type column to 1's and 0's in train_df\n",
    "train_df[\"Type of Travel\"].replace({\"Business travel\":1, \"Personal Travel\":0}, inplace=True)"
   ]
  },
  {
   "cell_type": "code",
   "execution_count": 9,
   "metadata": {},
   "outputs": [],
   "source": [
    "#convert class type column to 2's 1's and 0's in train_df\n",
    "train_df[\"Class\"].replace({\"Business\":2, \"Eco\":1, \"Eco Plus\":0}, inplace=True)"
   ]
  },
  {
   "cell_type": "code",
   "execution_count": 10,
   "metadata": {},
   "outputs": [],
   "source": [
    "#assign the X_train data\n",
    "train_df = train_df.drop(columns=[\"Unnamed: 0\", 'id'])\n",
    "\n",
    "#assign the y_train data\n",
    "y_train = np.array(train_df[\"satisfaction\"]).reshape(-1,1)"
   ]
  },
  {
   "cell_type": "code",
   "execution_count": 11,
   "metadata": {},
   "outputs": [],
   "source": [
    "#assign x_train values\n",
    "X_train = train_df"
   ]
  },
  {
   "cell_type": "code",
   "execution_count": 12,
   "metadata": {},
   "outputs": [],
   "source": [
    "#drop target variable from x train\n",
    "X_train = X_train.drop(columns=[\"satisfaction\"])"
   ]
  },
  {
   "cell_type": "code",
   "execution_count": 13,
   "metadata": {},
   "outputs": [],
   "source": [
    "#convert the satisfaction column to 1's and 0's in test_df\n",
    "test_df[\"satisfaction\"].replace({\"satisfied\":1, \"neutral or dissatisfied\":0}, inplace=True)"
   ]
  },
  {
   "cell_type": "code",
   "execution_count": 14,
   "metadata": {},
   "outputs": [],
   "source": [
    "#convert gender column to 1's and 0's in test_df\n",
    "test_df[\"Gender\"].replace({\"Male\":1, \"Female\":0}, inplace=True)"
   ]
  },
  {
   "cell_type": "code",
   "execution_count": 15,
   "metadata": {},
   "outputs": [],
   "source": [
    "#convert customer type column to 1's and 0's in test_df\n",
    "test_df[\"Customer Type\"].replace({\"Loyal Customer\":1, \"disloyal Customer\":0}, inplace=True)"
   ]
  },
  {
   "cell_type": "code",
   "execution_count": 16,
   "metadata": {},
   "outputs": [],
   "source": [
    "#convert travel type column to 1's and 0's in test_df\n",
    "test_df[\"Type of Travel\"].replace({\"Business travel\":1, \"Personal Travel\":0}, inplace=True)"
   ]
  },
  {
   "cell_type": "code",
   "execution_count": 17,
   "metadata": {},
   "outputs": [],
   "source": [
    "#convert class type column to 2's 1's and 0's in test_df\n",
    "test_df[\"Class\"].replace({\"Business\":2, \"Eco\":1, \"Eco Plus\":0}, inplace=True)"
   ]
  },
  {
   "cell_type": "code",
   "execution_count": 18,
   "metadata": {},
   "outputs": [],
   "source": [
    "#drop unneeded columns and reshape y_test variable\n",
    "test_df = test_df.drop(columns=[\"Unnamed: 0\", 'id'])\n",
    "\n",
    "y_test = np.array(test_df[\"satisfaction\"]).reshape(-1,1)"
   ]
  },
  {
   "cell_type": "code",
   "execution_count": 19,
   "metadata": {},
   "outputs": [],
   "source": [
    "#assign x_test variables\n",
    "X_test = test_df"
   ]
  },
  {
   "cell_type": "code",
   "execution_count": 20,
   "metadata": {},
   "outputs": [],
   "source": [
    "#drop the target variable from the X_test variables\n",
    "X_test = X_test.drop(columns=[\"satisfaction\"])"
   ]
  },
  {
   "cell_type": "code",
   "execution_count": 21,
   "metadata": {},
   "outputs": [],
   "source": [
    "#establish the feature names for random forest importance metrics\n",
    "feature_names = X_test.columns"
   ]
  },
  {
   "cell_type": "code",
   "execution_count": 22,
   "metadata": {},
   "outputs": [
    {
     "name": "stderr",
     "output_type": "stream",
     "text": [
      "<ipython-input-22-1b0348547d61>:4: DataConversionWarning: A column-vector y was passed when a 1d array was expected. Please change the shape of y to (n_samples,), for example using ravel().\n",
      "  rf = rf.fit(X_train, y_train)\n"
     ]
    }
   ],
   "source": [
    "#create model using random forest\n",
    "from sklearn.ensemble import RandomForestClassifier\n",
    "rf = RandomForestClassifier(n_estimators=200, oob_score=True)\n",
    "rf = rf.fit(X_train, y_train)\n"
   ]
  },
  {
   "cell_type": "code",
   "execution_count": 26,
   "metadata": {},
   "outputs": [],
   "source": [
    "#score the model using oob score\n",
    "oob_score = rf.oob_score_"
   ]
  },
  {
   "cell_type": "code",
   "execution_count": 27,
   "metadata": {},
   "outputs": [],
   "source": [
    "#score the model at 200 estimators\n",
    "model_score = rf.score(X_test, y_test)"
   ]
  },
  {
   "cell_type": "code",
   "execution_count": 32,
   "metadata": {},
   "outputs": [],
   "source": [
    "#assign n_estimators to a variable for table\n",
    "estimators = rf.n_estimators"
   ]
  },
  {
   "cell_type": "code",
   "execution_count": null,
   "metadata": {},
   "outputs": [],
   "source": [
    "#print out the feature importances\n",
    "sorted(zip(rf.feature_importances_, feature_names), reverse=True)"
   ]
  },
  {
   "cell_type": "code",
   "execution_count": null,
   "metadata": {},
   "outputs": [],
   "source": [
    "#save model using pickle\n",
    "filename = 'gcloud_app/random_forest.pkl'\n",
    "pickle.dump(rf, open(filename, 'wb'))"
   ]
  },
  {
   "cell_type": "code",
   "execution_count": null,
   "metadata": {
    "scrolled": true
   },
   "outputs": [],
   "source": [
    "import matplotlib.pyplot as plt\n",
    "\n",
    "# from collections import OrderedDict\n",
    "# from sklearn.datasets import make_classification\n",
    "# from sklearn.ensemble import RandomForestClassifier\n",
    "\n",
    "# Author: Kian Ho <hui.kian.ho@gmail.com>\n",
    "#         Gilles Louppe <g.louppe@gmail.com>\n",
    "#         Andreas Mueller <amueller@ais.uni-bonn.de>\n",
    "#\n",
    "# License: BSD 3 Clause\n",
    "\n",
    "# print(__doc__)\n",
    "\n",
    "# RANDOM_STATE = 123\n",
    "\n",
    "# # Generate a binary classification dataset.\n",
    "# X, y = make_classification(n_samples=500, n_features=25,\n",
    "#                            n_clusters_per_class=1, n_informative=15,\n",
    "#                            random_state=RANDOM_STATE)\n",
    "\n",
    "# NOTE: Setting the `warm_start` construction parameter to `True` disables\n",
    "# support for parallelized ensembles but is necessary for tracking the OOB\n",
    "# error trajectory during training.\n",
    "# ensemble_clfs = [\n",
    "#     (\"RandomForestClassifier, max_features='sqrt'\",\n",
    "#         RandomForestClassifier(warm_start=True, oob_score=True,\n",
    "#                                max_features=\"sqrt\",\n",
    "#                                random_state=RANDOM_STATE)),\n",
    "#     (\"RandomForestClassifier, max_features='log2'\",\n",
    "#         RandomForestClassifier(warm_start=True, max_features='log2',\n",
    "#                                oob_score=True,\n",
    "#                                random_state=RANDOM_STATE)),\n",
    "#     (\"RandomForestClassifier, max_features=None\",\n",
    "#         RandomForestClassifier(warm_start=True, max_features=None,\n",
    "#                                oob_score=True,\n",
    "#                                random_state=RANDOM_STATE))\n",
    "# ]\n",
    "\n",
    "# # Map a classifier name to a list of (<n_estimators>, <error rate>) pairs.\n",
    "# error_rate = OrderedDict((label, []) for label, _ in ensemble_clfs)\n",
    "\n",
    "# Range of `n_estimators` values to explore.\n",
    "min_estimators = 10\n",
    "max_estimators = 500\n",
    "\n",
    "x_values = np.arange(min_estimators, max_estimators + 1, 50).tolist()\n",
    "y_values = []\n",
    "\n",
    "for i in range(min_estimators, max_estimators + 1, 50):\n",
    "    model = RandomForestClassifier(n_estimators=i, oob_score=True).fit(X_train, y_train)\n",
    "    y_values.append(model.oob_score_)"
   ]
  },
  {
   "cell_type": "code",
   "execution_count": null,
   "metadata": {},
   "outputs": [],
   "source": [
    "plt.plot(x_values, y_values)\n",
    "plt.xlabel(\"n_estimators\", fontweight='heavy')\n",
    "plt.ylabel(\"oob_score\", fontweight='heavy')\n",
    "plt.title(\"oob_score vs. n_estimators\", fontweight='bold')\n",
    "plt.savefig(\"images/oob_score_vs_estimators\", bbox_inches=\"tight\")"
   ]
  },
  {
   "cell_type": "code",
   "execution_count": null,
   "metadata": {},
   "outputs": [],
   "source": [
    "#assign importances to variable\n",
    "importances = rf.feature_importances_ "
   ]
  },
  {
   "cell_type": "code",
   "execution_count": null,
   "metadata": {},
   "outputs": [],
   "source": [
    "#get standard deviation of importances\n",
    "std = np.std([tree.feature_importances_ for tree in rf.estimators_], axis=0)"
   ]
  },
  {
   "cell_type": "code",
   "execution_count": null,
   "metadata": {},
   "outputs": [],
   "source": [
    "#convert importances to pandas series\n",
    "forest_importances = pd.Series(importances, index=feature_names)"
   ]
  },
  {
   "cell_type": "code",
   "execution_count": null,
   "metadata": {},
   "outputs": [],
   "source": [
    "#plot feature importances and standard deviation as yerr bar\n",
    "fig, ax = plt.subplots()\n",
    "forest_importances.plot.bar(yerr=std, ax=ax)\n",
    "ax.set_title(\"Feature Importances Using MDI\", weight='bold')\n",
    "ax.set_ylabel(\"Mean Decrease in Impurity\", weight='bold')\n",
    "plt.savefig(\"images/feature_importance\", bbox_inches=\"tight\")"
   ]
  },
  {
   "cell_type": "code",
   "execution_count": 49,
   "metadata": {},
   "outputs": [
    {
     "data": {
      "text/html": [
       "<div>\n",
       "<style scoped>\n",
       "    .dataframe tbody tr th:only-of-type {\n",
       "        vertical-align: middle;\n",
       "    }\n",
       "\n",
       "    .dataframe tbody tr th {\n",
       "        vertical-align: top;\n",
       "    }\n",
       "\n",
       "    .dataframe thead th {\n",
       "        text-align: right;\n",
       "    }\n",
       "</style>\n",
       "<table border=\"1\" class=\"dataframe\">\n",
       "  <thead>\n",
       "    <tr style=\"text-align: right;\">\n",
       "      <th></th>\n",
       "      <th>Model Type</th>\n",
       "      <th># Estimators</th>\n",
       "      <th>Model Score</th>\n",
       "      <th>OOB Score</th>\n",
       "    </tr>\n",
       "  </thead>\n",
       "  <tbody>\n",
       "    <tr>\n",
       "      <th>0</th>\n",
       "      <td>Random Forest</td>\n",
       "      <td>200</td>\n",
       "      <td>0.963002</td>\n",
       "      <td>0.962672</td>\n",
       "    </tr>\n",
       "  </tbody>\n",
       "</table>\n",
       "</div>"
      ],
      "text/plain": [
       "      Model Type  # Estimators  Model Score  OOB Score\n",
       "0  Random Forest           200     0.963002   0.962672"
      ]
     },
     "execution_count": 49,
     "metadata": {},
     "output_type": "execute_result"
    }
   ],
   "source": [
    "table = pd.DataFrame([{\"Model Type\": \"Random Forest\", \"# Estimators\": estimators, \"Model Score\": model_score, \"OOB Score\": oob_score}])\n",
    "table"
   ]
  },
  {
   "cell_type": "code",
   "execution_count": 45,
   "metadata": {},
   "outputs": [],
   "source": [
    "table = pd.DataFrame.transpose(table)"
   ]
  },
  {
   "cell_type": "code",
   "execution_count": 46,
   "metadata": {},
   "outputs": [
    {
     "data": {
      "text/html": [
       "<div>\n",
       "<style scoped>\n",
       "    .dataframe tbody tr th:only-of-type {\n",
       "        vertical-align: middle;\n",
       "    }\n",
       "\n",
       "    .dataframe tbody tr th {\n",
       "        vertical-align: top;\n",
       "    }\n",
       "\n",
       "    .dataframe thead th {\n",
       "        text-align: right;\n",
       "    }\n",
       "</style>\n",
       "<table border=\"1\" class=\"dataframe\">\n",
       "  <thead>\n",
       "    <tr style=\"text-align: right;\">\n",
       "      <th></th>\n",
       "      <th>0</th>\n",
       "    </tr>\n",
       "  </thead>\n",
       "  <tbody>\n",
       "    <tr>\n",
       "      <th>Model Type</th>\n",
       "      <td>Random Forest</td>\n",
       "    </tr>\n",
       "    <tr>\n",
       "      <th># Estimators</th>\n",
       "      <td>200</td>\n",
       "    </tr>\n",
       "    <tr>\n",
       "      <th>Model Score</th>\n",
       "      <td>0.963002</td>\n",
       "    </tr>\n",
       "    <tr>\n",
       "      <th>OOB Score</th>\n",
       "      <td>0.962672</td>\n",
       "    </tr>\n",
       "  </tbody>\n",
       "</table>\n",
       "</div>"
      ],
      "text/plain": [
       "                          0\n",
       "Model Type    Random Forest\n",
       "# Estimators            200\n",
       "Model Score        0.963002\n",
       "OOB Score          0.962672"
      ]
     },
     "execution_count": 46,
     "metadata": {},
     "output_type": "execute_result"
    }
   ],
   "source": [
    "table"
   ]
  },
  {
   "cell_type": "code",
   "execution_count": 51,
   "metadata": {},
   "outputs": [],
   "source": [
    "html_table = table.to_html(index=True, header=False)"
   ]
  },
  {
   "cell_type": "code",
   "execution_count": 52,
   "metadata": {},
   "outputs": [
    {
     "data": {
      "text/plain": [
       "'<table border=\"1\" class=\"dataframe\">\\n  <tbody>\\n    <tr>\\n      <th>0</th>\\n      <td>Random Forest</td>\\n      <td>200</td>\\n      <td>0.963002</td>\\n      <td>0.962672</td>\\n    </tr>\\n  </tbody>\\n</table>'"
      ]
     },
     "execution_count": 52,
     "metadata": {},
     "output_type": "execute_result"
    }
   ],
   "source": [
    "html_table"
   ]
  },
  {
   "cell_type": "code",
   "execution_count": null,
   "metadata": {},
   "outputs": [],
   "source": []
  }
 ],
 "metadata": {
  "kernelspec": {
   "display_name": "Python 3",
   "language": "python",
   "name": "python3"
  },
  "language_info": {
   "codemirror_mode": {
    "name": "ipython",
    "version": 3
   },
   "file_extension": ".py",
   "mimetype": "text/x-python",
   "name": "python",
   "nbconvert_exporter": "python",
   "pygments_lexer": "ipython3",
   "version": "3.8.3"
  }
 },
 "nbformat": 4,
 "nbformat_minor": 4
}
