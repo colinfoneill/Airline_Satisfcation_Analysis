{
 "cells": [
  {
   "cell_type": "code",
   "execution_count": 6,
   "metadata": {},
   "outputs": [],
   "source": [
    "from sklearn import tree\n",
    "import pandas as pd\n",
    "import os\n",
    "import numpy as np\n",
    "import pickle"
   ]
  },
  {
   "cell_type": "code",
   "execution_count": 7,
   "metadata": {},
   "outputs": [],
   "source": [
    "#import our train and test csv\n",
    "train_path = os.path.join(\"Data/train.csv\")\n",
    "train_df = pd.read_csv(train_path)\n",
    "\n",
    "test_path = os.path.join(\"Data/test.csv\")\n",
    "test_df = pd.read_csv(test_path)"
   ]
  },
  {
   "cell_type": "code",
   "execution_count": 8,
   "metadata": {},
   "outputs": [],
   "source": [
    "#drop na in test_df\n",
    "test_df = test_df.dropna()"
   ]
  },
  {
   "cell_type": "code",
   "execution_count": 9,
   "metadata": {},
   "outputs": [],
   "source": [
    "#drop na in train_df\n",
    "train_df = train_df.dropna()"
   ]
  },
  {
   "cell_type": "code",
   "execution_count": 10,
   "metadata": {},
   "outputs": [],
   "source": [
    "#convert the satisfaction column to 1's and 0's in the train_df\n",
    "train_df[\"satisfaction\"].replace({\"satisfied\":1, \"neutral or dissatisfied\":0}, inplace=True)"
   ]
  },
  {
   "cell_type": "code",
   "execution_count": 11,
   "metadata": {},
   "outputs": [],
   "source": [
    "#convert gender column to 1's and 0's in train_df\n",
    "train_df[\"Gender\"].replace({\"Male\":1, \"Female\":0}, inplace=True)"
   ]
  },
  {
   "cell_type": "code",
   "execution_count": 12,
   "metadata": {},
   "outputs": [],
   "source": [
    "#convert customer type column to 1's and 0's in train_df\n",
    "train_df[\"Customer Type\"].replace({\"Loyal Customer\":1, \"disloyal Customer\":0}, inplace=True)"
   ]
  },
  {
   "cell_type": "code",
   "execution_count": 13,
   "metadata": {},
   "outputs": [],
   "source": [
    "#convert travel type column to 1's and 0's in train_df\n",
    "train_df[\"Type of Travel\"].replace({\"Business travel\":1, \"Personal Travel\":0}, inplace=True)"
   ]
  },
  {
   "cell_type": "code",
   "execution_count": 14,
   "metadata": {},
   "outputs": [],
   "source": [
    "#convert class type column to 2's 1's and 0's in train_df\n",
    "train_df[\"Class\"].replace({\"Business\":2, \"Eco\":1, \"Eco Plus\":0}, inplace=True)"
   ]
  },
  {
   "cell_type": "code",
   "execution_count": 15,
   "metadata": {},
   "outputs": [],
   "source": [
    "#assign the X_train data\n",
    "train_df = train_df.drop(columns=[\"Unnamed: 0\", 'id'])\n",
    "\n",
    "#assign the y_train data\n",
    "y_train = np.array(train_df[\"satisfaction\"]).reshape(-1,1)"
   ]
  },
  {
   "cell_type": "code",
   "execution_count": 16,
   "metadata": {},
   "outputs": [],
   "source": [
    "#assign x_train values\n",
    "X_train = train_df"
   ]
  },
  {
   "cell_type": "code",
   "execution_count": 17,
   "metadata": {},
   "outputs": [],
   "source": [
    "#drop target variable from x train\n",
    "X_train = X_train.drop(columns=[\"satisfaction\"])"
   ]
  },
  {
   "cell_type": "code",
   "execution_count": 18,
   "metadata": {},
   "outputs": [],
   "source": [
    "#convert the satisfaction column to 1's and 0's in test_df\n",
    "test_df[\"satisfaction\"].replace({\"satisfied\":1, \"neutral or dissatisfied\":0}, inplace=True)"
   ]
  },
  {
   "cell_type": "code",
   "execution_count": 19,
   "metadata": {},
   "outputs": [],
   "source": [
    "#convert gender column to 1's and 0's in test_df\n",
    "test_df[\"Gender\"].replace({\"Male\":1, \"Female\":0}, inplace=True)"
   ]
  },
  {
   "cell_type": "code",
   "execution_count": 20,
   "metadata": {},
   "outputs": [],
   "source": [
    "#convert customer type column to 1's and 0's in test_df\n",
    "test_df[\"Customer Type\"].replace({\"Loyal Customer\":1, \"disloyal Customer\":0}, inplace=True)"
   ]
  },
  {
   "cell_type": "code",
   "execution_count": 21,
   "metadata": {},
   "outputs": [],
   "source": [
    "#convert travel type column to 1's and 0's in test_df\n",
    "test_df[\"Type of Travel\"].replace({\"Business travel\":1, \"Personal Travel\":0}, inplace=True)"
   ]
  },
  {
   "cell_type": "code",
   "execution_count": 22,
   "metadata": {},
   "outputs": [],
   "source": [
    "#convert class type column to 2's 1's and 0's in test_df\n",
    "test_df[\"Class\"].replace({\"Business\":2, \"Eco\":1, \"Eco Plus\":0}, inplace=True)"
   ]
  },
  {
   "cell_type": "code",
   "execution_count": 23,
   "metadata": {},
   "outputs": [],
   "source": [
    "#drop unneeded columns and reshape y_test variable\n",
    "test_df = test_df.drop(columns=[\"Unnamed: 0\", 'id'])\n",
    "\n",
    "y_test = np.array(test_df[\"satisfaction\"]).reshape(-1,1)"
   ]
  },
  {
   "cell_type": "code",
   "execution_count": 24,
   "metadata": {},
   "outputs": [],
   "source": [
    "#assign x_test variables\n",
    "X_test = test_df"
   ]
  },
  {
   "cell_type": "code",
   "execution_count": 25,
   "metadata": {},
   "outputs": [],
   "source": [
    "#drop the target variable from the X_test variables\n",
    "X_test = X_test.drop(columns=[\"satisfaction\"])"
   ]
  },
  {
   "cell_type": "code",
   "execution_count": 26,
   "metadata": {},
   "outputs": [],
   "source": [
    "#establish the feature names for random forest importance metrics\n",
    "feature_names = X_test.columns"
   ]
  },
  {
   "cell_type": "code",
   "execution_count": 27,
   "metadata": {},
   "outputs": [
    {
     "name": "stderr",
     "output_type": "stream",
     "text": [
      "<ipython-input-27-8f7f329368c2>:4: DataConversionWarning: A column-vector y was passed when a 1d array was expected. Please change the shape of y to (n_samples,), for example using ravel().\n",
      "  rf = rf.fit(X_train, y_train)\n"
     ]
    }
   ],
   "source": [
    "#create model using random forest\n",
    "from sklearn.ensemble import RandomForestClassifier\n",
    "rf = RandomForestClassifier(n_estimators=200)\n",
    "rf = rf.fit(X_train, y_train)\n"
   ]
  },
  {
   "cell_type": "code",
   "execution_count": 28,
   "metadata": {},
   "outputs": [
    {
     "data": {
      "text/plain": [
       "0.9635422701116132"
      ]
     },
     "execution_count": 28,
     "metadata": {},
     "output_type": "execute_result"
    }
   ],
   "source": [
    "rf.score(X_test, y_test)"
   ]
  },
  {
   "cell_type": "code",
   "execution_count": 29,
   "metadata": {},
   "outputs": [
    {
     "data": {
      "text/plain": [
       "[(0.17490662776376745, 'Online boarding'),\n",
       " (0.1473221489771716, 'Inflight wifi service'),\n",
       " (0.09510638291530477, 'Class'),\n",
       " (0.09323235642802276, 'Type of Travel'),\n",
       " (0.06077998164287726, 'Inflight entertainment'),\n",
       " (0.047923146056107896, 'Seat comfort'),\n",
       " (0.03950636184593216, 'Leg room service'),\n",
       " (0.038555388037531134, 'Customer Type'),\n",
       " (0.036483313996340805, 'Flight Distance'),\n",
       " (0.035346656895286335, 'Ease of Online booking'),\n",
       " (0.03171334432205847, 'Age'),\n",
       " (0.02979982071815593, 'On-board service'),\n",
       " (0.024722172634469283, 'Baggage handling'),\n",
       " (0.024081135959460053, 'Cleanliness'),\n",
       " (0.023648577227347, 'Inflight service'),\n",
       " (0.02259874560415001, 'Checkin service'),\n",
       " (0.018362703540505537, 'Departure/Arrival time convenient'),\n",
       " (0.016553336956124196, 'Gate location'),\n",
       " (0.012258358656305141, 'Arrival Delay in Minutes'),\n",
       " (0.01164484844582122, 'Food and drink'),\n",
       " (0.010912405670733207, 'Departure Delay in Minutes'),\n",
       " (0.004542185706527853, 'Gender')]"
      ]
     },
     "execution_count": 29,
     "metadata": {},
     "output_type": "execute_result"
    }
   ],
   "source": [
    "sorted(zip(rf.feature_importances_, feature_names), reverse=True)"
   ]
  },
  {
   "cell_type": "code",
   "execution_count": 32,
   "metadata": {},
   "outputs": [],
   "source": [
    "filename = 'gcloud_app/random_forest.pkl'\n",
    "pickle.dump(rf, open(filename, 'wb'))"
   ]
  },
  {
   "cell_type": "code",
   "execution_count": null,
   "metadata": {},
   "outputs": [],
   "source": []
  }
 ],
 "metadata": {
  "kernelspec": {
   "display_name": "Python 3",
   "language": "python",
   "name": "python3"
  },
  "language_info": {
   "codemirror_mode": {
    "name": "ipython",
    "version": 3
   },
   "file_extension": ".py",
   "mimetype": "text/x-python",
   "name": "python",
   "nbconvert_exporter": "python",
   "pygments_lexer": "ipython3",
   "version": "3.8.3"
  }
 },
 "nbformat": 4,
 "nbformat_minor": 4
}
